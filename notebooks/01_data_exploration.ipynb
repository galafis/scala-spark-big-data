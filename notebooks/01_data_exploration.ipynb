{
  "cells": [
    {
      "cell_type": "markdown",
      "metadata": {},
      "source": [
        "# Data Exploration\n",
        "Notebook inicial para exploração de dados do projeto Scala-Spark-Big-Data.\n\n",
        "TODO: Adicionar células de análise exploratória usando Spark DataFrames."
      ]
    }
  ],
  "metadata": {
    "kernelspec": {
      "display_name": "Python 3",
      "language": "python",
      "name": "python3"
    },
    "language_info": {
      "name": "python",
      "version": "3.x"
    }
  },
  "nbformat": 4,
  "nbformat_minor": 5
}
